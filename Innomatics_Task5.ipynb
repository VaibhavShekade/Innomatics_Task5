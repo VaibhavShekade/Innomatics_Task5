{
  "nbformat": 4,
  "nbformat_minor": 0,
  "metadata": {
    "colab": {
      "provenance": []
    },
    "kernelspec": {
      "name": "python3",
      "display_name": "Python 3"
    },
    "language_info": {
      "name": "python"
    }
  },
  "cells": [
    {
      "cell_type": "markdown",
      "source": [
        "Q1"
      ],
      "metadata": {
        "id": "pGWTaWhbBCR0"
      }
    },
    {
      "cell_type": "code",
      "execution_count": null,
      "metadata": {
        "id": "ztjTCgysBBUx"
      },
      "outputs": [],
      "source": [
        "import re\n",
        "pattern = r'^[+-.]\\d+\\.\\d+|\\d+\\.\\d+$|[+-]\\.\\d+'\n",
        "n = int(input())\n",
        "for i in range(n):\n",
        "    target = input()\n",
        "    if re.fullmatch(pattern,target):\n",
        "        print('True')\n",
        "    else:\n",
        "        print('False')\n"
      ]
    },
    {
      "cell_type": "markdown",
      "source": [
        "Q2"
      ],
      "metadata": {
        "id": "1yQ5q4GbBGEq"
      }
    },
    {
      "cell_type": "code",
      "source": [
        "regex_pattern = r\"[\\,\\.]\"\n",
        "\n"
      ],
      "metadata": {
        "id": "3EPXnXv7BGrj"
      },
      "execution_count": null,
      "outputs": []
    },
    {
      "cell_type": "markdown",
      "source": [
        "Q3"
      ],
      "metadata": {
        "id": "NqX4ejpJBLJK"
      }
    },
    {
      "cell_type": "code",
      "source": [
        "import re\n",
        "char = input()\n",
        "pattern = r\"([a-zA-Z0-9])\\1+\"\n",
        "match = re.search(pattern,char)\n",
        "if match:\n",
        "    print(match.group(1))\n",
        "else:\n",
        "    print(-1)\n"
      ],
      "metadata": {
        "id": "uNp0J_UcBL6t"
      },
      "execution_count": null,
      "outputs": []
    },
    {
      "cell_type": "markdown",
      "source": [
        "Q4"
      ],
      "metadata": {
        "id": "X6wKOf2RBQk7"
      }
    },
    {
      "cell_type": "code",
      "source": [
        "import re\n",
        "text = r'[aeiouAEIOU^]?[aeiouAEIOU]{2,}[^aeiouAEIOU$]'\n",
        "value = re.findall(text,input())\n",
        "if value:\n",
        "    [print(i[:-1]) for i in value]\n",
        "else:\n",
        "    print(-1)\n"
      ],
      "metadata": {
        "id": "AymFFxibBRrS"
      },
      "execution_count": null,
      "outputs": []
    },
    {
      "cell_type": "markdown",
      "source": [
        "Q5"
      ],
      "metadata": {
        "id": "ai9Vygn3BZq6"
      }
    },
    {
      "cell_type": "code",
      "source": [
        "import re\n",
        "\n",
        "s = input()\n",
        "\n",
        "print(*[(m.start(1), m.end(1) -1) for m in re.finditer(fr'(?=({input()}))', s)] or [(-1, -1)], sep='\\n')\n"
      ],
      "metadata": {
        "id": "Nw-xxA1-BfET"
      },
      "execution_count": null,
      "outputs": []
    },
    {
      "cell_type": "markdown",
      "source": [
        "Q6"
      ],
      "metadata": {
        "id": "5IH6Yka1Ba0h"
      }
    },
    {
      "cell_type": "code",
      "source": [
        "import re\n",
        "[ print(\\\n",
        "    re.sub(r'(?<= )\\|\\|(?= )', \"or\", (\\\n",
        "    re.sub(r'(?<= )\\&\\&(?= )', \"and\", \\\n",
        "    input())))) \\\n",
        "    for _ in range(int(input()))\\\n",
        "]\n"
      ],
      "metadata": {
        "id": "oVylMC2hBj1B"
      },
      "execution_count": null,
      "outputs": []
    },
    {
      "cell_type": "markdown",
      "source": [
        "Q7"
      ],
      "metadata": {
        "id": "8XmsZQb4Bbsl"
      }
    },
    {
      "cell_type": "code",
      "source": [
        "regex_pattern = r'^(M{0,3})(CM|CD|D?C{0,3})(XC|XL|L?X{0,3})(IX|IV|V?I{0,3})$'\n",
        "\n",
        "\n",
        "\n"
      ],
      "metadata": {
        "id": "Y2CRePI6Bn2N"
      },
      "execution_count": null,
      "outputs": []
    },
    {
      "cell_type": "markdown",
      "source": [
        "Q8"
      ],
      "metadata": {
        "id": "Ce6nl4VsBcYh"
      }
    },
    {
      "cell_type": "code",
      "source": [
        "import re\n",
        "\n",
        "for _ in range(int(input())):\n",
        "    print('YES' if re.match(r'^[7-9]\\d{9}$', input()) else 'NO')\n"
      ],
      "metadata": {
        "id": "WVkx5pHCBrtg"
      },
      "execution_count": null,
      "outputs": []
    },
    {
      "cell_type": "markdown",
      "source": [
        "Q9"
      ],
      "metadata": {
        "id": "Kh_f-_8zBc-N"
      }
    },
    {
      "cell_type": "code",
      "source": [
        "import re\n",
        "\n",
        "for _ in range(int(input())):\n",
        "    s = input()\n",
        "    if re.search(r'<[a-zA-Z][\\w\\-.]+@[a-zA-Z]+\\.[a-zA-Z]{1,3}>', s):\n",
        "        print(s)\n"
      ],
      "metadata": {
        "id": "cnruqivLBvGs"
      },
      "execution_count": null,
      "outputs": []
    },
    {
      "cell_type": "markdown",
      "source": [
        "Q10"
      ],
      "metadata": {
        "id": "viJVn0KcBdwy"
      }
    },
    {
      "cell_type": "code",
      "source": [
        "import re\n",
        "\n",
        "pattern = re.compile(r'#([0-9a-fA-F]{1,2}){3}')\n",
        "\n",
        "res = []\n",
        "for _ in range(int(input())):\n",
        "    s = input()\n",
        "    if s.endswith(';'):\n",
        "        res += [m.group(0) for m in re.finditer(pattern, s)]\n",
        "print(*res, sep='\\n')\n"
      ],
      "metadata": {
        "id": "zx0II3iZBzrn"
      },
      "execution_count": null,
      "outputs": []
    },
    {
      "cell_type": "markdown",
      "source": [
        "Q11"
      ],
      "metadata": {
        "id": "S0r2PxhhB3SW"
      }
    },
    {
      "cell_type": "code",
      "source": [
        "from html.parser import HTMLParser\n",
        "\n",
        "class MyParser(HTMLParser):\n",
        "    def print(self, action, tag, attrs=()):\n",
        "        print(f\"{action:5} : {tag}\")\n",
        "        for name, value in attrs:\n",
        "            print(f\"-> {name} > {value}\")\n",
        "        \n",
        "    def handle_starttag(self, tag, attrs):\n",
        "        self.print(\"Start\", tag, attrs)\n",
        "\n",
        "    def handle_endtag(self, tag):\n",
        "        self.print(\"End\", tag)\n",
        "\n",
        "    def handle_startendtag(self, tag, attrs):\n",
        "        self.print(\"Empty\", tag, attrs)\n",
        "\n",
        "parser = MyParser()\n",
        "for _ in range(int(input())):\n",
        "    parser.feed(input())\n"
      ],
      "metadata": {
        "id": "FxBER8QXB4D2"
      },
      "execution_count": null,
      "outputs": []
    },
    {
      "cell_type": "markdown",
      "source": [
        "Q12"
      ],
      "metadata": {
        "id": "IuFp1aQbB7Ts"
      }
    },
    {
      "cell_type": "code",
      "source": [
        "from html.parser import HTMLParser\n",
        "\n",
        "class MyHTMLParser(HTMLParser):\n",
        "    def handle_comment(self, data):\n",
        "        data = str(data).split('\\n')\n",
        "        if len(data)>1:\n",
        "            print('>>> Multi-line Comment', *data, sep='\\n')\n",
        "        else:\n",
        "            print('>>> Single-line Comment', data[0], sep='\\n')            \n",
        "    def handle_data(self, data):\n",
        "        data = str(data).replace('\\n', '')\n",
        "        if len(data)>0:\n",
        "            print('>>> Data', data, sep='\\n')\n",
        "\n",
        "html = \"\"       \n",
        "for _ in range(int(input())):\n",
        "    html += input().rstrip()\n",
        "    html += '\\n'\n",
        "    \n",
        "parser = MyHTMLParser()\n",
        "parser.feed(html)\n",
        "parser.close()\n"
      ],
      "metadata": {
        "id": "xaosY4ViB8bB"
      },
      "execution_count": null,
      "outputs": []
    },
    {
      "cell_type": "markdown",
      "source": [
        "Q13"
      ],
      "metadata": {
        "id": "gh4k_pTCCBVQ"
      }
    },
    {
      "cell_type": "code",
      "source": [
        "from html.parser import HTMLParser\n",
        "\n",
        "class MyHTMLParser(HTMLParser):\n",
        "    def handle_starttag(self, tag, attrs):\n",
        "        print(tag, *('-> {0} > {1}'.format(*attr) for attr in attrs), sep='\\n')\n",
        "\n",
        "MyHTMLParser().feed(''.join([input() for _ in range(int(input()))]))\n"
      ],
      "metadata": {
        "id": "UQLysBUkCB_p"
      },
      "execution_count": null,
      "outputs": []
    },
    {
      "cell_type": "markdown",
      "source": [
        "Q14"
      ],
      "metadata": {
        "id": "fbTvoXsxCFDg"
      }
    },
    {
      "cell_type": "code",
      "source": [
        "import re\n",
        "\n",
        "def is_valid_uid(uid):\n",
        "    return all([\n",
        "        re.search(r'[A-Z].*[A-Z]', uid),\n",
        "        re.search(r'\\d.*\\d.*\\d', uid),\n",
        "        not re.search(r'\\W', uid),\n",
        "        len(set(uid)) == 10,\n",
        "        len(uid) == 10\n",
        "    ])\n",
        "\n",
        "t = int(input().strip())\n",
        "\n",
        "for i in range(t):\n",
        "    uid = input().strip()\n",
        "    if is_valid_uid(uid):\n",
        "        print(\"Valid\")\n",
        "    else:\n",
        "        print(\"Invalid\")\n"
      ],
      "metadata": {
        "id": "KJVM8fTvCFwk"
      },
      "execution_count": null,
      "outputs": []
    },
    {
      "cell_type": "markdown",
      "source": [
        "Q15"
      ],
      "metadata": {
        "id": "sIFjI46SCJiq"
      }
    },
    {
      "cell_type": "code",
      "source": [
        "regex_integer_in_range = r\"^([1-9][0-9]{5})$\"\n",
        "regex_alternating_repetitive_digit_pair = r\"(?=(\\d)\\d\\1)\"\n"
      ],
      "metadata": {
        "id": "VbIi03pACLtq"
      },
      "execution_count": null,
      "outputs": []
    },
    {
      "cell_type": "markdown",
      "source": [
        "Q16"
      ],
      "metadata": {
        "id": "05iOd63-CPgm"
      }
    },
    {
      "cell_type": "code",
      "source": [
        "import math\n",
        "import os\n",
        "import random\n",
        "import re\n",
        "import sys\n",
        "\n",
        "first_multiple_input = input().rstrip().split()\n",
        "\n",
        "n = int(first_multiple_input[0])\n",
        "m = int(first_multiple_input[1])\n",
        "\n",
        "matrix = []\n",
        "\n",
        "for _ in range(n):\n",
        "    matrix_item = input()\n",
        "    matrix.append(matrix_item)\n",
        "\n",
        "# start   \n",
        "matrix = list(zip(*matrix))\n",
        "\n",
        "sample = str()\n",
        "\n",
        "for words in matrix:\n",
        "    for char in words:\n",
        "        sample += char\n",
        "       \n",
        "print(re.sub(r'(?<=\\w)([^\\w\\d]+)(?=\\w)', ' ', sample)) \n",
        "# Matrix Script in Python - Hacker Rank Solution END\n"
      ],
      "metadata": {
        "id": "UiXXym63CQc2"
      },
      "execution_count": null,
      "outputs": []
    }
  ]
}